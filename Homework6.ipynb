{
 "cells": [
  {
   "cell_type": "code",
   "execution_count": null,
   "metadata": {},
   "outputs": [],
   "source": [
    "import arviz as az\n",
    "import matplotlib.pyplot as plt\n",
    "import numpy as np\n",
    "import pandas as pd\n",
    "import pymc as pm\n",
    "import scipy.stats as stats\n",
    "from sklearn.model_selection import train_test_split\n"
   ]
  },
  {
   "cell_type": "code",
   "execution_count": null,
   "metadata": {},
   "outputs": [],
   "source": [
    "df = pd.read_excel('Pumpkin_Seeds_Dataset.xlsx')\n",
    "df.head"
   ]
  },
  {
   "cell_type": "code",
   "execution_count": null,
   "metadata": {},
   "outputs": [],
   "source": [
    "x = df[['Area', 'Convex_Area', 'Eccentricity', 'Compactness', 'Aspect_Ration']].copy()\n",
    "\n",
    "labels = x.columns.to_list()\n",
    "y = df['Class']\n",
    "y_map = {label: value for value, label in enumerate(np.unique(y))}\n",
    "y_labeled = y.map(y_map).values\n",
    "\n",
    "x_train, x_test, y_train, y_test = train_test_split(x, y_labeled, test_size=0.3, random_state=42)"
   ]
  },
  {
   "cell_type": "code",
   "execution_count": null,
   "metadata": {},
   "outputs": [],
   "source": [
    "# Standardize the data\n",
    "from sklearn.preprocessing import StandardScaler\n",
    "from sklearn.metrics import accuracy_score\n",
    "labels.insert(0, \"Intercept\")\n",
    "scaler = StandardScaler().fit(x_train)\n",
    "x_train_scaled = scaler.transform(x_train)\n",
    "x_test_scaled = scaler.transform(x_test)\n",
    "x_train_scaled_int = np.hstack((np.ones((x_train_scaled.shape[0], 1)), x_train_scaled))\n",
    "x_test_scaled_int = np.hstack((np.ones((x_test_scaled.shape[0], 1)), x_test_scaled))"
   ]
  },
  {
   "cell_type": "code",
   "execution_count": null,
   "metadata": {},
   "outputs": [],
   "source": [
    "coords = {\"coeffs\": labels}\n",
    "\n",
    "with pm.Model(coords=coords) as model:\n",
    "    # data containers\n",
    "    X = pm.MutableData(\"X\", x_train_scaled_int)\n",
    "    y = pm.MutableData(\"y\", y_train)\n",
    "    # priors\n",
    "    b = pm.Normal(\"b\", mu=0, sigma=1, dims=\"coeffs\")\n",
    "    # linear model\n",
    "    mu = pm.math.dot(X, b)\n",
    "    # link function\n",
    "    p = pm.Deterministic(\"p\", pm.invprobit(mu)) #probit link function\n",
    "    # likelihood\n",
    "    obs = pm.Bernoulli(\"obs\", p=p, observed=y)\n",
    "\n",
    "pm.model_to_graphviz(model)"
   ]
  },
  {
   "cell_type": "code",
   "execution_count": null,
   "metadata": {},
   "outputs": [],
   "source": [
    "with model:\n",
    "    idata = pm.sample()"
   ]
  }
 ],
 "metadata": {
  "kernelspec": {
   "display_name": "base",
   "language": "python",
   "name": "python3"
  },
  "language_info": {
   "name": "python",
   "version": "3.9.16"
  }
 },
 "nbformat": 4,
 "nbformat_minor": 2
}
