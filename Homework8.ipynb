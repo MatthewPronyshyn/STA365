{
 "cells": [
  {
   "cell_type": "markdown",
   "metadata": {},
   "source": [
    "# Question 1\n",
    "\n",
    "The posterior predictive distribution is created using these steps:\n",
    "\n",
    "- Randomly choose a chain and a draw\n",
    "- Get the vector of $\\mu$'s, $\\sigma$'s and weights from the corresponding chain and draw\n",
    "- Evaluate the pdf of a normal distribution for each pair of $\\mu$ and $\\sigma$ over the support\n",
    "- Weight each pdf with the weights vector and sum over the pdfs to get one single posterior predictive distribution\n",
    "- Repeat from first step many times\n",
    "- Average over all these pdfs to get the posterior predictive distribution mean\n",
    "    "
   ]
  },
  {
   "cell_type": "markdown",
   "metadata": {},
   "source": [
    "# Question 2\n",
    "\n",
    "To get posterior predictive distribution in general:\n",
    "\n",
    "- Sample parameter values from the posterior distribution using the trace\n",
    "- For each set of parameter values, generate new data from the likelihood function $p(y_{new}|\\theta)$\n",
    "- Collect these generated data points across all sampled parameter sets. \n",
    "\n",
    "The resulting collection of generated data points forms the posterior predictive dsitribution."
   ]
  },
  {
   "cell_type": "markdown",
   "metadata": {},
   "source": [
    "# Question 3\n",
    "\n"
   ]
  }
 ],
 "metadata": {
  "kernelspec": {
   "display_name": "base",
   "language": "python",
   "name": "python3"
  },
  "language_info": {
   "codemirror_mode": {
    "name": "ipython",
    "version": 3
   },
   "file_extension": ".py",
   "mimetype": "text/x-python",
   "name": "python",
   "nbconvert_exporter": "python",
   "pygments_lexer": "ipython3",
   "version": "3.9.16"
  }
 },
 "nbformat": 4,
 "nbformat_minor": 2
}
